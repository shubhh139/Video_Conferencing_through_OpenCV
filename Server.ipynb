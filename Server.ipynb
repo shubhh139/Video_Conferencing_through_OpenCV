{
 "cells": [
  {
   "cell_type": "code",
   "execution_count": null,
   "id": "f947744d",
   "metadata": {},
   "outputs": [],
   "source": [
    "import socket\n",
    "import pickle\n",
    "import cv2"
   ]
  },
  {
   "cell_type": "code",
   "execution_count": null,
   "id": "67b87c55",
   "metadata": {},
   "outputs": [],
   "source": [
    "img = cv2.VideoCapture(0) \n",
    "soc = socket.socket()\n",
    "IP = \"192.168.29.117\"\n",
    "PORT = 2020"
   ]
  },
  {
   "cell_type": "code",
   "execution_count": null,
   "id": "c65509a6",
   "metadata": {},
   "outputs": [],
   "source": [
    "soc.bind((IP, PORT))\n",
    "print(\"Binded\")\n",
    "soc.listen()"
   ]
  },
  {
   "cell_type": "code",
   "execution_count": null,
   "id": "4421a494",
   "metadata": {},
   "outputs": [],
   "source": [
    "output, address = soc.accept()"
   ]
  },
  {
   "cell_type": "code",
   "execution_count": null,
   "id": "607c57e7",
   "metadata": {},
   "outputs": [],
   "source": [
    "while True:\n",
    "    ret, pic = img.read()\n",
    "    ret, buffer = cv2.imencode(\".jpg\", pic) \n",
    "    byte = pickle.dumps(buffer)  #converting image into bytestream\n",
    "    output.send(byte)\n",
    "    \n",
    "    \n",
    "    received_data = output.recv(1000000)\n",
    "    print(\"Received\")\n",
    "    \n",
    "    \n",
    "    try:\n",
    "        data = pickle.loads(received_data)\n",
    "        data = cv2.imdecode(data,cv2.IMREAD_COLOR)\n",
    "        if data is not None:\n",
    "            cv2.imshow(\"SERVER_DISPLAY\", data)\n",
    "            if cv2.waitKey(2) == 13:\n",
    "                break\n",
    "            \n",
    "    except:\n",
    "        print(\"Client not connected\")\n",
    "    \n",
    "cv2.destroyAllWindows()\n",
    "img.release()"
   ]
  },
  {
   "cell_type": "code",
   "execution_count": null,
   "id": "6a327d4e",
   "metadata": {},
   "outputs": [],
   "source": []
  },
  {
   "cell_type": "code",
   "execution_count": null,
   "id": "36b019c5",
   "metadata": {},
   "outputs": [],
   "source": []
  },
  {
   "cell_type": "code",
   "execution_count": null,
   "id": "eb192242",
   "metadata": {},
   "outputs": [],
   "source": []
  },
  {
   "cell_type": "code",
   "execution_count": null,
   "id": "841ffba2",
   "metadata": {},
   "outputs": [],
   "source": []
  },
  {
   "cell_type": "code",
   "execution_count": null,
   "id": "2559a0e4",
   "metadata": {},
   "outputs": [],
   "source": []
  },
  {
   "cell_type": "code",
   "execution_count": null,
   "id": "70837e55",
   "metadata": {},
   "outputs": [],
   "source": []
  },
  {
   "cell_type": "code",
   "execution_count": null,
   "id": "91f49a66",
   "metadata": {},
   "outputs": [],
   "source": []
  },
  {
   "cell_type": "code",
   "execution_count": null,
   "id": "43e0a20c",
   "metadata": {},
   "outputs": [],
   "source": []
  },
  {
   "cell_type": "code",
   "execution_count": null,
   "id": "c8764e69",
   "metadata": {},
   "outputs": [],
   "source": []
  },
  {
   "cell_type": "code",
   "execution_count": null,
   "id": "df05335f",
   "metadata": {},
   "outputs": [],
   "source": []
  }
 ],
 "metadata": {
  "kernelspec": {
   "display_name": "Python 3",
   "language": "python",
   "name": "python3"
  },
  "language_info": {
   "codemirror_mode": {
    "name": "ipython",
    "version": 3
   },
   "file_extension": ".py",
   "mimetype": "text/x-python",
   "name": "python",
   "nbconvert_exporter": "python",
   "pygments_lexer": "ipython3",
   "version": "3.8.8"
  }
 },
 "nbformat": 4,
 "nbformat_minor": 5
}
