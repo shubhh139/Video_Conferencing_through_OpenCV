{
 "cells": [
  {
   "cell_type": "code",
   "execution_count": null,
   "id": "ab6c0c9a",
   "metadata": {},
   "outputs": [],
   "source": [
    "import socket\n",
    "import urllib\n",
    "import pickle\n",
    "import cv2\n",
    "import numpy"
   ]
  },
  {
   "cell_type": "code",
   "execution_count": null,
   "id": "543a5cf9",
   "metadata": {},
   "outputs": [],
   "source": [
    "url = \"http://192.168.29.29:8080/shot.jpg\""
   ]
  },
  {
   "cell_type": "code",
   "execution_count": null,
   "id": "99c13e8c",
   "metadata": {},
   "outputs": [],
   "source": [
    "soc = socket.socket()"
   ]
  },
  {
   "cell_type": "code",
   "execution_count": null,
   "id": "bf7b1218",
   "metadata": {},
   "outputs": [],
   "source": [
    "IP = \"192.168.29.117\"\n",
    "PORT = 2020"
   ]
  },
  {
   "cell_type": "code",
   "execution_count": null,
   "id": "c6c865b2",
   "metadata": {},
   "outputs": [],
   "source": [
    "soc.connect((IP,PORT))\n",
    "print(\"connected\")"
   ]
  },
  {
   "cell_type": "code",
   "execution_count": null,
   "id": "656c9e9e",
   "metadata": {},
   "outputs": [],
   "source": [
    "while True:\n",
    "    \n",
    "    received_data = soc.recv(1000000)\n",
    "    \n",
    "    img_mob_cam = urllib.request.urlopen(url) #creates object from data received through url\n",
    "    img_numpy_array = numpy.array(bytearray(img_mob_cam.read())) \n",
    "    img_final = cv2.imdecode(img_numpy_array,-1) #-1 represents no change in received image data\n",
    "    img_final = cv2.resize(img_final,(300,300))\n",
    "    ret, buffer = cv2.imencode(\".jpg\", img_final)\n",
    "    bytedata = pickle.dumps(buffer)\n",
    "    \n",
    "    soc.send(bytedata)\n",
    "    \n",
    "    \n",
    "    try:\n",
    "        data = pickle.loads(received_data)\n",
    "        data = cv2.imdecode(data,cv2.IMREAD_COLOR)\n",
    "        if data is not None:\n",
    "            cv2.imshow(\"CLIENT_DISPLAY\", data)\n",
    "            if cv2.waitKey(2) == 13:\n",
    "                break\n",
    "            \n",
    "    except:\n",
    "        print(\"Server not connected\")\n",
    "    \n",
    "cv2.destroyAllWindows()"
   ]
  },
  {
   "cell_type": "code",
   "execution_count": null,
   "id": "a3d85312",
   "metadata": {},
   "outputs": [],
   "source": []
  },
  {
   "cell_type": "code",
   "execution_count": null,
   "id": "794e0983",
   "metadata": {},
   "outputs": [],
   "source": []
  },
  {
   "cell_type": "code",
   "execution_count": null,
   "id": "a62919af",
   "metadata": {},
   "outputs": [],
   "source": []
  },
  {
   "cell_type": "code",
   "execution_count": null,
   "id": "0cfd3e89",
   "metadata": {},
   "outputs": [],
   "source": []
  },
  {
   "cell_type": "code",
   "execution_count": null,
   "id": "74358057",
   "metadata": {},
   "outputs": [],
   "source": []
  },
  {
   "cell_type": "code",
   "execution_count": null,
   "id": "89d9aa60",
   "metadata": {},
   "outputs": [],
   "source": []
  }
 ],
 "metadata": {
  "kernelspec": {
   "display_name": "Python 3",
   "language": "python",
   "name": "python3"
  },
  "language_info": {
   "codemirror_mode": {
    "name": "ipython",
    "version": 3
   },
   "file_extension": ".py",
   "mimetype": "text/x-python",
   "name": "python",
   "nbconvert_exporter": "python",
   "pygments_lexer": "ipython3",
   "version": "3.8.8"
  }
 },
 "nbformat": 4,
 "nbformat_minor": 5
}
